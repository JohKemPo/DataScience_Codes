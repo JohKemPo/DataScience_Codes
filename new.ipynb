{
 "cells": [
  {
   "cell_type": "markdown",
   "metadata": {},
   "source": [
    "# Notebook Hello World!\n",
    "* <a href=\"https://www.youtube.com/watch?v=jNk-ZmeIz6c\">Link sobre configuração notebooks no vscode</a><br>\n",
    "* <a href=\"https://github.com/gilissantos/Matplotlib---Python\">Matplotlib GIT</a><br>\n",
    "* <a href=\"https://medium.com/horadecodar/gr%C3%A1ficos-de-pizza-com-matplotlib-piechart-33ea9760ad87\">Matplotlib Pizza</a><br>\n",
    "* <a href=\"https://www.hashtagtreinamentos.com/graficos-com-seaborn-no-python\">SEABORN</a><br>\n",
    "* <a href=\"https://acervolima.com/visualizacao-de-dados-em-python-usando-matplotlib-e-seaborn/\">SEABORN & MATPLOTLIB</a><br>\n",
    "* <a href=\"https://github.com/predict-idlab/plotly-resampler\">Plotly resampler</a><br>\n",
    "* <a href=\"https://plotly.com/python/\">Plotly</a><br>\n",
    "* <a href=\"https://blog.dsacademy.com.br/top-25-bibliotecas-python-para-data_science/\">Top 25 Bibliotecas Python Para Data Science</a><br>\n",
    "* <a href=\"https://medium.com/xnewdata-portugal/aula-12-ferramentas-de-an%C3%A1lise-de-dados-61df48d9470d\">Ferramentas de Análise de Dados</a><br>"
   ]
  },
  {
   "cell_type": "code",
   "execution_count": null,
   "metadata": {},
   "outputs": [],
   "source": []
  },
  {
   "cell_type": "code",
   "execution_count": null,
   "metadata": {},
   "outputs": [],
   "source": []
  },
  {
   "cell_type": "code",
   "execution_count": 41,
   "metadata": {},
   "outputs": [
    {
     "ename": "ModuleNotFoundError",
     "evalue": "No module named 'dash'",
     "output_type": "error",
     "traceback": [
      "\u001b[1;31m---------------------------------------------------------------------------\u001b[0m",
      "\u001b[1;31mModuleNotFoundError\u001b[0m                       Traceback (most recent call last)",
      "Cell \u001b[1;32mIn [41], line 1\u001b[0m\n\u001b[1;32m----> 1\u001b[0m \u001b[39mfrom\u001b[39;00m \u001b[39mdash\u001b[39;00m \u001b[39mimport\u001b[39;00m Dash, dcc, html, Input, Output\n\u001b[0;32m      2\u001b[0m \u001b[39mimport\u001b[39;00m \u001b[39mplotly\u001b[39;00m\u001b[39m.\u001b[39;00m\u001b[39mexpress\u001b[39;00m \u001b[39mas\u001b[39;00m \u001b[39mpx\u001b[39;00m\n\u001b[0;32m      4\u001b[0m app \u001b[39m=\u001b[39m Dash(\u001b[39m__name__\u001b[39m)\n",
      "\u001b[1;31mModuleNotFoundError\u001b[0m: No module named 'dash'"
     ]
    }
   ],
   "source": [
    "from dash import Dash, dcc, html, Input, Output\n",
    "import plotly.express as px\n",
    "\n",
    "app = Dash(__name__)\n",
    "\n",
    "\n",
    "app.layout = html.Div([\n",
    "    html.H4('Interactive scatter plot with Iris dataset'),\n",
    "    dcc.Graph(id=\"scatter-plot\"),\n",
    "    html.P(\"Filter by petal width:\"),\n",
    "    dcc.RangeSlider(\n",
    "        id='range-slider',\n",
    "        min=0, max=2.5, step=0.1,\n",
    "        marks={0: '0', 2.5: '2.5'},\n",
    "        value=[0.5, 2]\n",
    "    ),\n",
    "])\n",
    "\n",
    "\n",
    "@app.callback(\n",
    "    Output(\"scatter-plot\", \"figure\"), \n",
    "    Input(\"range-slider\", \"value\"))\n",
    "def update_bar_chart(slider_range):\n",
    "    df = px.data.iris() # replace with your own data source\n",
    "    low, high = slider_range\n",
    "    mask = (df['petal_width'] > low) & (df['petal_width'] < high)\n",
    "    fig = px.scatter(\n",
    "        df[mask], x=\"sepal_width\", y=\"sepal_length\", \n",
    "        color=\"species\", size='petal_length', \n",
    "        hover_data=['petal_width'])\n",
    "    return fig\n",
    "\n",
    "\n",
    "app.run_server(debug=True)"
   ]
  }
 ],
 "metadata": {
  "kernelspec": {
   "display_name": "Python 3 (ipykernel)",
   "language": "python",
   "name": "python3"
  },
  "language_info": {
   "codemirror_mode": {
    "name": "ipython",
    "version": 3
   },
   "file_extension": ".py",
   "mimetype": "text/x-python",
   "name": "python",
   "nbconvert_exporter": "python",
   "pygments_lexer": "ipython3",
   "version": "3.9.12"
  },
  "vscode": {
   "interpreter": {
    "hash": "bcca0175964ae6ff584872733809f2657f3650f336a23be0033a7d18ab263a12"
   }
  }
 },
 "nbformat": 4,
 "nbformat_minor": 2
}
