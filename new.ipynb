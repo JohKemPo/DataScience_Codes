{
 "cells": [
  {
   "cell_type": "markdown",
   "metadata": {},
   "source": [
    "# Notebook Hello World!\n",
    "* <a href=\"https://www.youtube.com/watch?v=jNk-ZmeIz6c\">Link sobre configuração notebooks no vscode</a><br>\n",
    "* <a href=\"https://github.com/gilissantos/Matplotlib---Python\">Matplotlib GIT</a><br>\n",
    "* <a href=\"https://medium.com/horadecodar/gr%C3%A1ficos-de-pizza-com-matplotlib-piechart-33ea9760ad87\">Matplotlib Pizza</a><br>\n",
    "* <a href=\"https://www.hashtagtreinamentos.com/graficos-com-seaborn-no-python\">SEABORN</a><br>\n",
    "* <a href=\"https://acervolima.com/visualizacao-de-dados-em-python-usando-matplotlib-e-seaborn/\">SEABORN & MATPLOTLIB</a><br>"
   ]
  },
  {
   "cell_type": "code",
   "execution_count": null,
   "metadata": {},
   "outputs": [],
   "source": [
    "print(\"Hello World!\")"
   ]
  }
 ],
 "metadata": {
  "kernelspec": {
   "display_name": "Python 3.10.4 64-bit",
   "language": "python",
   "name": "python3"
  },
  "language_info": {
   "codemirror_mode": {
    "name": "ipython",
    "version": 3
   },
   "file_extension": ".py",
   "mimetype": "text/x-python",
   "name": "python",
   "nbconvert_exporter": "python",
   "pygments_lexer": "ipython3",
   "version": "3.10.4"
  },
  "orig_nbformat": 4,
  "vscode": {
   "interpreter": {
    "hash": "bcca0175964ae6ff584872733809f2657f3650f336a23be0033a7d18ab263a12"
   }
  }
 },
 "nbformat": 4,
 "nbformat_minor": 2
}
